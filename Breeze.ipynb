{
 "cells": [
  {
   "cell_type": "code",
   "execution_count": 2,
   "metadata": {},
   "outputs": [],
   "source": [
    "from breeze_connect import BreezeConnect\n",
    "import json\n",
    "# Initialize SDK\n",
    "breeze = BreezeConnect(api_key=\"05l3(7895X4136976h@Za90m09681999\")\n",
    "\n",
    "# Generate Session\n",
    "breeze.generate_session(api_secret=\"516o05v3500859%I515F02eo#3l27876\",\n",
    "                        session_token=\"49230941\")\n"
   ]
  }
 ],
 "metadata": {
  "description": null,
  "kernelspec": {
   "display_name": "Python 3",
   "language": "python",
   "name": "python3"
  },
  "language_info": {
   "codemirror_mode": {
    "name": "ipython",
    "version": 3
   },
   "file_extension": ".py",
   "mimetype": "text/x-python",
   "name": "python",
   "nbconvert_exporter": "python",
   "pygments_lexer": "ipython3",
   "version": "3.12.5"
  },
  "save_output": true,
  "synapse_widget": {
   "state": {},
   "version": "0.1"
  }
 },
 "nbformat": 4,
 "nbformat_minor": 2
}
