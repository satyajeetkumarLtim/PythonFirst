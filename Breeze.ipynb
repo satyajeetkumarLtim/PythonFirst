{
 "cells": [
  {
   "cell_type": "code",
   "execution_count": null,
   "metadata": {},
   "outputs": [],
   "source": [
    "from breeze_connect import BreezeConnect\n",
    "import json\n",
    "# Initialize SDK\n",
    "breeze = BreezeConnect(api_key=\"05l3(7895X4136976h@Za90m09681999\")\n",
    "\n",
    "# Generate Session\n",
    "breeze.generate_session(api_secret=\"516o05v3500859%I515F02eo#3l27876\",\n",
    "                        session_token=\"49246822\")\n"
   ]
  },
  {
   "cell_type": "code",
   "execution_count": null,
   "metadata": {},
   "outputs": [],
   "source": [
    "import os\n",
    "import sys\n",
    "\n",
    "os.environ['PYSPARK_PYTHON'] = sys.executable\n",
    "os.environ['PYSPARK_DRIVER_PYTHON'] = sys.executable"
   ]
  },
  {
   "cell_type": "code",
   "execution_count": null,
   "metadata": {},
   "outputs": [],
   "source": [
    "import json\n",
    "import pyspark\n",
    "import pandas as pd \n",
    "from pyspark.sql import SparkSession\n",
    "from pyspark import SparkContext\n",
    "import functools \n",
    "Spark = SparkSession.builder.appName('sparkdf').getOrCreate() \n",
    "sc = Spark.sparkContext\n",
    "nifty = breeze.get_quotes(stock_code=\"NIFTY\",\n",
    "                    exchange_code=\"NSE\",\n",
    "                    expiry_date=\"\",\n",
    "                    product_type=\"\",\n",
    "                    right=\"others\",\n",
    "                    strike_price=\"0\")\n",
    "\n",
    "ostring = json.dumps(nifty, indent=4)  \n",
    "#nifty = sc.parallelize([ostring])\n",
    "df = Spark.read.json(sc.parallelize([ostring]))\n",
    "df.show(truncate=False)\n",
    "#print (ostring)\n",
    "#nifty = spark.read.json(ostring)\n",
    "#dfo.show(truncate=False)\n",
    "#flat_dfo_nifty = dfo.select(explode(\"Success\").alias(\"Success\"))"
   ]
  },
  {
   "cell_type": "code",
   "execution_count": null,
   "metadata": {},
   "outputs": [],
   "source": [
    "breeze.get_trade_list(from_date=\"2024-11-18T06:00:00.000Z\",\n",
    "                        to_date=\"2024-11-18T06:00:00.000Z\",\n",
    "                        exchange_code=\"NFO\",\n",
    "                        product_type=\"options\",\n",
    "                        action=\"\",\n",
    "                        stock_code=\"\")"
   ]
  }
 ],
 "metadata": {
  "description": null,
  "kernelspec": {
   "display_name": "Python 3",
   "language": "python",
   "name": "python3"
  },
  "language_info": {
   "codemirror_mode": {
    "name": "ipython",
    "version": 3
   },
   "file_extension": ".py",
   "mimetype": "text/x-python",
   "name": "python",
   "nbconvert_exporter": "python",
   "pygments_lexer": "ipython3",
   "version": "undefined.undefined.undefined"
  },
  "save_output": true,
  "synapse_widget": {
   "state": {},
   "version": "0.1"
  }
 },
 "nbformat": 4,
 "nbformat_minor": 2
}
