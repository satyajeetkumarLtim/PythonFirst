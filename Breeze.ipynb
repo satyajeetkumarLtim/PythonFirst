{
 "cells": [
  {
   "cell_type": "code",
   "execution_count": 1,
   "metadata": {},
   "outputs": [],
   "source": [
    "from breeze_connect import BreezeConnect\n",
    "import json\n",
    "# Initialize SDK\n",
    "breeze = BreezeConnect(api_key=\"05l3(7895X4136976h@Za90m09681999\")\n",
    "\n",
    "# Generate Session\n",
    "breeze.generate_session(api_secret=\"516o05v3500859%I515F02eo#3l27876\",\n",
    "                        session_token=\"49246822\")\n"
   ]
  },
  {
   "cell_type": "code",
   "execution_count": 2,
   "metadata": {},
   "outputs": [
    {
     "name": "stdout",
     "output_type": "stream",
     "text": [
      "c:\\Program Files\\Python312\\python.exe\n"
     ]
    }
   ],
   "source": [
    "import os\n",
    "import sys\n",
    "\n",
    "os.environ['PYSPARK_PYTHON'] = sys.executable\n",
    "os.environ['PYSPARK_DRIVER_PYTHON'] = sys.executable\n",
    "print (sys.executable)"
   ]
  },
  {
   "cell_type": "code",
   "execution_count": null,
   "metadata": {},
   "outputs": [],
   "source": [
    "import json\n",
    "#import pyspark\n",
    "#import pandas as pd \n",
    "from pyspark.sql import SparkSession\n",
    "from pyspark import SparkContext\n",
    "import functools \n",
    "from pyspark.sql.functions import explode\n",
    "from pyspark.sql.types import StructType, StructField, StringType, IntegerType, ArrayType, FloatType\n",
    "# Custom function to replace None with \"NA\"\n",
    "def replace_none(obj):\n",
    "    if isinstance(obj, dict):\n",
    "        return {k: replace_none(v) for k, v in obj.items()}\n",
    "    elif isinstance(obj, list):\n",
    "        return [replace_none(i) for i in obj]\n",
    "    elif obj is None:\n",
    "        return \"NA\"\n",
    "    else:\n",
    "        return obj\n",
    "\n",
    "array_element_schema = StructType([\n",
    "    StructField(\"exchange_code\", StringType(), True),\n",
    "    StructField(\"product_type\", IntegerType(), True),\n",
    "    StructField(\"stock_code\", StringType(), True),\n",
    "    StructField(\"expiry_date\",StringType(), True),\n",
    "    StructField(\"right\", StringType(), True),\n",
    "    StructField(\"strike_price\",FloatType(), True),\n",
    "    StructField(\"ltp\", FloatType(), True),\n",
    "    StructField(\"ltt\", StringType(), True),\n",
    "    StructField(\"best_bid_price\", FloatType(), True),\n",
    "    StructField(\"best_bid_quantity\", StringType(), True),\n",
    "    StructField(\"best_offer_price\", FloatType(), True), \n",
    "    StructField(\"best_offer_quantity\", StringType(), True),\n",
    "    StructField(\"open\", FloatType(), True), \n",
    "    StructField(\"high\", FloatType(), True), \n",
    "    StructField(\"low\", FloatType(), True), \n",
    "    StructField(\"previous_close\", FloatType(), True), \n",
    "    StructField(\"ltp_percent_change\", FloatType(), True), \n",
    "    StructField(\"upper_circuit\", FloatType(), True), \n",
    "    StructField(\"lower_circuit\", FloatType(), True), \n",
    "    StructField(\"total_quantity_traded\", StringType(), True),\n",
    "    StructField(\"spot_price\", StringType(), True)\n",
    "])\n",
    "schema = StructType([\n",
    "    StructField(\"Success\", ArrayType(array_element_schema), True),\n",
    "    StructField(\"Status\", IntegerType(), True),\n",
    "    StructField(\"Error\", StringType(), True)\n",
    "])\n",
    "    \n",
    "spark = SparkSession.builder \\\n",
    "    .appName('sparkdf') \\\n",
    "    .config('spark.driver.memory', '4g') \\\n",
    "    .config('spark.executor.memory', '4g') \\\n",
    "    .getOrCreate()\n",
    "sc = SparkContext.getOrCreate()\n",
    "nifty = breeze.get_quotes(stock_code=\"NIFTY\",\n",
    "                    exchange_code=\"NSE\",\n",
    "                    expiry_date=\"\",\n",
    "                    product_type=\"\",\n",
    "                    right=\"others\",\n",
    "                    strike_price=\"0\")\n",
    "\n",
    "\n",
    "nifty = replace_none(nifty)\n",
    "#print (nifty)\n",
    "json_string = json.dumps(nifty, indent= 4)\n",
    "#print (json_string)\n",
    "rdd = spark.sparkContext.parallelize([json_string])\n",
    "#print (json_string)\n",
    "df = spark.read.schema(schema).json(rdd)\n",
    "df.show()\n",
    "#df.show(truncate=False)\n",
    "\n",
    "#print (nifty)\n",
    "#nifty = sc.parallelize([ostring])\n",
    "#df = spark.read.schema(schema).json(\"C:\\\\Users\\\\10825459\\\\Desktop\\\\Python Project\\\\Nifty.json\")\n",
    "#df.cache()\n",
    "#df.show(truncate=False)\n",
    "#corrupt_records = df.filter(df[\"_corrupt_record\"].isNotNull())\n",
    "#corrupt_records.show()\n",
    "#df.select()\n",
    "#df.show(truncate=False)\n",
    "#print (ostring)\n",
    "#nifty = spark.read.json(ostring)\n",
    "#dfo.show(truncate=False)\n",
    "#flat_dfo_nifty = df.select(explode(\"Success\").alias(\"Success\"))"
   ]
  },
  {
   "cell_type": "code",
   "execution_count": null,
   "metadata": {},
   "outputs": [],
   "source": [
    "breeze.get_trade_list(from_date=\"2024-11-18T06:00:00.000Z\",\n",
    "                        to_date=\"2024-11-18T06:00:00.000Z\",\n",
    "                        exchange_code=\"NFO\",\n",
    "                        product_type=\"options\",\n",
    "                        action=\"\",\n",
    "                        stock_code=\"\")"
   ]
  }
 ],
 "metadata": {
  "description": null,
  "kernelspec": {
   "display_name": "Python 3",
   "language": "python",
   "name": "python3"
  },
  "language_info": {
   "codemirror_mode": {
    "name": "ipython",
    "version": 3
   },
   "file_extension": ".py",
   "mimetype": "text/x-python",
   "name": "python",
   "nbconvert_exporter": "python",
   "pygments_lexer": "ipython3",
   "version": "3.12.5"
  },
  "save_output": true,
  "synapse_widget": {
   "state": {},
   "version": "0.1"
  }
 },
 "nbformat": 4,
 "nbformat_minor": 2
}
