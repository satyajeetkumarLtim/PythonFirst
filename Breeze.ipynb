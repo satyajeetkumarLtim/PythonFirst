{
 "cells": [
  {
   "cell_type": "code",
   "execution_count": null,
   "metadata": {},
   "outputs": [],
   "source": [
    "from breeze_connect import BreezeConnect\n",
    "import json\n",
    "# Initialize SDK\n",
    "breeze = BreezeConnect(api_key=\"05l3(7895X4136976h@Za90m09681999\")\n",
    "\n",
    "# Generate Session\n",
    "breeze.generate_session(api_secret=\"516o05v3500859%I515F02eo#3l27876\",\n",
    "                        session_token=\"4757966225\")\n"
   ]
  },
  {
   "cell_type": "code",
   "execution_count": null,
   "metadata": {
    "jupyter": {
     "outputs_hidden": false,
     "source_hidden": false
    },
    "nteract": {
     "transient": {
      "deleting": false
     }
    }
   },
   "outputs": [],
   "source": [
    "import json\n",
    "import pyspark\n",
    "import pandas as pd \n",
    "from pyspark.sql import SparkSession\n",
    "import functools \n",
    "  \n",
    "# explicit function \n",
    "def unionAll(dfs): \n",
    "    return functools.reduce(lambda df1, df2: df1.union(df2.select(df1.columns)), dfs) \n",
    "\n",
    "sc = pyspark.SparkContext('local')\n",
    "option = breeze.get_trade_list(from_date=\"2024-04-01T06:00:00.000Z\",\n",
    "                        to_date=\"2024-09-23T06:00:00.000Z\",\n",
    "                        exchange_code=\"NSE\",\n",
    "                        product_type=\"options\",\n",
    "                        action=\"\",\n",
    "                        stock_code=\"\")\n",
    "\n",
    "ostring = json.dumps(option, indent=4)  \n",
    "dfo = spark.read.json(sc.parallelize([ostring]))\n",
    "#dfo.show(truncate=False)\n",
    "flat_dfo = dfo.select(explode(\"Success\").alias(\"Success\"))\n",
    "#flat_dfo.show(truncate=False)\n",
    "#flat_dfo.printSchema()\n",
    "#json_ostring = json.loads(ostring)\n",
    "#print(type(flat_dfo))\n",
    "\n",
    "optionplus= breeze.get_trade_list(from_date=\"2024-04-01T06:00:00.000Z\",\n",
    "                        to_date=\"2024-09-23T06:00:00.000Z\",\n",
    "                        exchange_code=\"NSE\",\n",
    "                        product_type=\"optionplus\",\n",
    "                        action=\"\",\n",
    "                        stock_code=\"\")\n",
    "\n",
    "opstring = json.dumps(optionplus, indent=4)  \n",
    "dfop = spark.read.json(sc.parallelize([opstring]))\n",
    "flat_dfop = dfop.select(explode(\"Success\").alias(\"Success\"))\n",
    "#flat_dfop.printSchema()\n",
    "\n",
    "unioned_df = unionAll([flat_dfop, flat_dfo]) \n",
    "unioned_df.printSchema()\n",
    "#flat_dfop.show(truncate=False)\n"
   ]
  },
  {
   "cell_type": "code",
   "execution_count": null,
   "metadata": {
    "jupyter": {
     "outputs_hidden": false,
     "source_hidden": false
    },
    "nteract": {
     "transient": {
      "deleting": false
     }
    }
   },
   "outputs": [],
   "source": [
    "import json\n",
    "import pandas as pd \n",
    "import pyspark \n",
    "from pyspark.sql.functions import explode\n",
    "from pyspark.sql import SparkSession \n",
    "\n",
    "\n",
    "BankNifty =json.dumps (breeze.get_quotes(stock_code=\"CNXBAN\",\n",
    "                                          exchange_code=\"NSE\",\n",
    "                                          expiry_date=\"\",\n",
    "                                          product_type=\"cash\",\n",
    "                                          right=\"others\",\n",
    "                                          strike_price=\"0\"\n",
    "                                        )\n",
    "                       )\n",
    "\n",
    "spark = SparkSession.builder.appName('sparkdf').getOrCreate()                        \n",
    "sc = spark.sparkContext                       \n",
    "bndf = spark.read.json(sc.parallelize([BankNifty])) \n",
    "\n",
    "flat_bndf = bndf.select(\"Error\",\"Status\",explode(\"Success\").alias(\"Success\"))\n",
    "flat_bndf =  flat_bndf.select (flat_bndf.Success.ltp.alias(\"now\"),\"Success.open\",\"Success.low\",\"Success.high\",flat_bndf.Success.previous_close.alias(\"lastdayclose\")).where(flat_bndf.Success.ltp > 0)  \n",
    "flat_bndf.show()\n",
    "#flat_bndf.show()"
   ]
  }
 ],
 "metadata": {
  "description": null,
  "kernelspec": {
   "display_name": "Python 3",
   "language": "python",
   "name": "python3"
  },
  "language_info": {
   "codemirror_mode": {
    "name": "ipython",
    "version": 3
   },
   "file_extension": ".py",
   "mimetype": "text/x-python",
   "name": "python",
   "nbconvert_exporter": "python",
   "pygments_lexer": "ipython3",
   "version": "3.12.5"
  },
  "save_output": true,
  "synapse_widget": {
   "state": {},
   "version": "0.1"
  }
 },
 "nbformat": 4,
 "nbformat_minor": 2
}
